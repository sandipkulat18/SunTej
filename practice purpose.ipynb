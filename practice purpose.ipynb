{
 "cells": [
  {
   "cell_type": "code",
   "execution_count": 3,
   "id": "001a3b63",
   "metadata": {},
   "outputs": [],
   "source": [
    "\n",
    "i={'Mercury': 100, 'Venus': 200, 'Earth': 300}\n",
    "b= {'Star': 500, 'Moon': 600, 'Sun': 700}"
   ]
  },
  {
   "cell_type": "code",
   "execution_count": 4,
   "id": "30eaa042",
   "metadata": {},
   "outputs": [
    {
     "name": "stdout",
     "output_type": "stream",
     "text": [
      "The original dictionary 1 is : {'Mercury': 100, 'Venus': 200, 'Earth': 300}\n",
      "The original dictionary 2 is : {'Star': 500, 'Moon': 600, 'Sun': 700}\n"
     ]
    }
   ],
   "source": [
    "print(\"The original dictionary 1 is : \" + str(i))\n",
    "print(\"The original dictionary 2 is : \" + str(b))"
   ]
  },
  {
   "cell_type": "code",
   "execution_count": 5,
   "id": "e923eccc",
   "metadata": {},
   "outputs": [],
   "source": [
    "keys1 = list(i.keys())\n",
    "vals2 = list(b.values())"
   ]
  },
  {
   "cell_type": "code",
   "execution_count": 6,
   "id": "97b79013",
   "metadata": {},
   "outputs": [],
   "source": [
    "res = dict()\n",
    "for idx in range(len(keys1)):\n",
    "    res[keys1[idx]] = vals2[idx]"
   ]
  },
  {
   "cell_type": "code",
   "execution_count": 7,
   "id": "f0e285f6",
   "metadata": {},
   "outputs": [
    {
     "name": "stdout",
     "output_type": "stream",
     "text": [
      "Mapped dictionary : {'Mercury': 500, 'Venus': 600, 'Earth': 700}\n"
     ]
    }
   ],
   "source": [
    "print(\"Mapped dictionary : \" + str(res))"
   ]
  },
  {
   "cell_type": "code",
   "execution_count": 8,
   "id": "70942c96",
   "metadata": {},
   "outputs": [],
   "source": [
    "def display1():\n",
    "    count = 0\n",
    "    file = open(\"INDIA.TXT\",\"r\")\n",
    "    for LINE in file:\n",
    "        Words = LINE.split()\n",
    "        for W in Words:\n",
    "            if W == \"India\":\n",
    "                count = count + 1\n",
    "    print (count)\n",
    "    file.close()"
   ]
  },
  {
   "cell_type": "code",
   "execution_count": 9,
   "id": "07f2eee9",
   "metadata": {},
   "outputs": [
    {
     "ename": "FileNotFoundError",
     "evalue": "[Errno 2] No such file or directory: 'INDIA.TXT'",
     "output_type": "error",
     "traceback": [
      "\u001b[1;31m---------------------------------------------------------------------------\u001b[0m",
      "\u001b[1;31mFileNotFoundError\u001b[0m                         Traceback (most recent call last)",
      "Cell \u001b[1;32mIn[9], line 1\u001b[0m\n\u001b[1;32m----> 1\u001b[0m \u001b[43mdisplay1\u001b[49m\u001b[43m(\u001b[49m\u001b[43m)\u001b[49m\n",
      "Cell \u001b[1;32mIn[8], line 3\u001b[0m, in \u001b[0;36mdisplay1\u001b[1;34m()\u001b[0m\n\u001b[0;32m      1\u001b[0m \u001b[38;5;28;01mdef\u001b[39;00m \u001b[38;5;21mdisplay1\u001b[39m():\n\u001b[0;32m      2\u001b[0m     count \u001b[38;5;241m=\u001b[39m \u001b[38;5;241m0\u001b[39m\n\u001b[1;32m----> 3\u001b[0m     file \u001b[38;5;241m=\u001b[39m \u001b[38;5;28;43mopen\u001b[39;49m\u001b[43m(\u001b[49m\u001b[38;5;124;43m\"\u001b[39;49m\u001b[38;5;124;43mINDIA.TXT\u001b[39;49m\u001b[38;5;124;43m\"\u001b[39;49m\u001b[43m,\u001b[49m\u001b[38;5;124;43m\"\u001b[39;49m\u001b[38;5;124;43mr\u001b[39;49m\u001b[38;5;124;43m\"\u001b[39;49m\u001b[43m)\u001b[49m\n\u001b[0;32m      4\u001b[0m     \u001b[38;5;28;01mfor\u001b[39;00m LINE \u001b[38;5;129;01min\u001b[39;00m file:\n\u001b[0;32m      5\u001b[0m         Words \u001b[38;5;241m=\u001b[39m LINE\u001b[38;5;241m.\u001b[39msplit()\n",
      "File \u001b[1;32m~\\anaconda3\\lib\\site-packages\\IPython\\core\\interactiveshell.py:282\u001b[0m, in \u001b[0;36m_modified_open\u001b[1;34m(file, *args, **kwargs)\u001b[0m\n\u001b[0;32m    275\u001b[0m \u001b[38;5;28;01mif\u001b[39;00m file \u001b[38;5;129;01min\u001b[39;00m {\u001b[38;5;241m0\u001b[39m, \u001b[38;5;241m1\u001b[39m, \u001b[38;5;241m2\u001b[39m}:\n\u001b[0;32m    276\u001b[0m     \u001b[38;5;28;01mraise\u001b[39;00m \u001b[38;5;167;01mValueError\u001b[39;00m(\n\u001b[0;32m    277\u001b[0m         \u001b[38;5;124mf\u001b[39m\u001b[38;5;124m\"\u001b[39m\u001b[38;5;124mIPython won\u001b[39m\u001b[38;5;124m'\u001b[39m\u001b[38;5;124mt let you open fd=\u001b[39m\u001b[38;5;132;01m{\u001b[39;00mfile\u001b[38;5;132;01m}\u001b[39;00m\u001b[38;5;124m by default \u001b[39m\u001b[38;5;124m\"\u001b[39m\n\u001b[0;32m    278\u001b[0m         \u001b[38;5;124m\"\u001b[39m\u001b[38;5;124mas it is likely to crash IPython. If you know what you are doing, \u001b[39m\u001b[38;5;124m\"\u001b[39m\n\u001b[0;32m    279\u001b[0m         \u001b[38;5;124m\"\u001b[39m\u001b[38;5;124myou can use builtins\u001b[39m\u001b[38;5;124m'\u001b[39m\u001b[38;5;124m open.\u001b[39m\u001b[38;5;124m\"\u001b[39m\n\u001b[0;32m    280\u001b[0m     )\n\u001b[1;32m--> 282\u001b[0m \u001b[38;5;28;01mreturn\u001b[39;00m io_open(file, \u001b[38;5;241m*\u001b[39margs, \u001b[38;5;241m*\u001b[39m\u001b[38;5;241m*\u001b[39mkwargs)\n",
      "\u001b[1;31mFileNotFoundError\u001b[0m: [Errno 2] No such file or directory: 'INDIA.TXT'"
     ]
    }
   ],
   "source": [
    "    display1()"
   ]
  },
  {
   "cell_type": "code",
   "execution_count": 10,
   "id": "3ff409de",
   "metadata": {},
   "outputs": [],
   "source": []
  },
  {
   "cell_type": "code",
   "execution_count": 13,
   "id": "542973c0",
   "metadata": {},
   "outputs": [],
   "source": [
    "def simple_interest(P,R,T):\n",
    "    print('The principal is', P)\n",
    "    print('The time period is', R)\n",
    "    print('The rate of interest is',T)\n",
    "     \n",
    "    si = (P * R * T)/100\n",
    "     \n",
    "    print('The Simple Interest is', si)\n",
    "    return si"
   ]
  },
  {
   "cell_type": "code",
   "execution_count": 17,
   "id": "5344acaf",
   "metadata": {},
   "outputs": [
    {
     "name": "stdout",
     "output_type": "stream",
     "text": [
      "The principal is 15\n",
      "The time period is 6\n",
      "The rate of interest is 8\n",
      "The Simple Interest is 7.2\n"
     ]
    },
    {
     "data": {
      "text/plain": [
       "7.2"
      ]
     },
     "execution_count": 17,
     "metadata": {},
     "output_type": "execute_result"
    }
   ],
   "source": [
    "simple_interest(15,6,8)"
   ]
  },
  {
   "cell_type": "code",
   "execution_count": 19,
   "id": "9e8cee72",
   "metadata": {},
   "outputs": [],
   "source": [
    "class CONTAINER:\n",
    "    def __init__(self,radius,height):\n",
    "        self.radius = radius\n",
    "        self.height = height\n",
    "    def __str__(self):\n",
    "        return \"Radius: \"+ str(self.radius) + \", Height: \" + str(self.height)\n",
    " \n",
    "    def getRadius(self):\n",
    "        return self.radius\n",
    "    def getHeight(self):\n",
    "        return self.height\n",
    "    def getVolume(self):\n",
    "        return self.radius*self.radius*3.14*self.height\n",
    " \n"
   ]
  },
  {
   "cell_type": "code",
   "execution_count": 20,
   "id": "625ef77b",
   "metadata": {},
   "outputs": [],
   "source": [
    "cd=CONTAINER(5,10)"
   ]
  },
  {
   "cell_type": "code",
   "execution_count": 36,
   "id": "cf9446f0",
   "metadata": {},
   "outputs": [
    {
     "name": "stdout",
     "output_type": "stream",
     "text": [
      "A CONTAINER with\n",
      "Radius: 5\n",
      "Height: 10\n",
      "Radius: 5, Height: 10\n",
      "It's volume is 785.0\n"
     ]
    }
   ],
   "source": [
    "print (\"A CONTAINER with\")\n",
    "print(\"Radius: \"+ str (cd.getRadius()))\n",
    "print (\"Height: \"+ str(cd.getHeight()))\n",
    "print (cd)  # This will call the function __str__\n",
    "print (\"It's volume is \"+str(cd.getVolume()))"
   ]
  },
  {
   "cell_type": "code",
   "execution_count": 37,
   "id": "74b3d6e4",
   "metadata": {},
   "outputs": [],
   "source": [
    "list1 = [12, -7, 5, 64, -14]\n"
   ]
  },
  {
   "cell_type": "code",
   "execution_count": 39,
   "id": "d79dcb3c",
   "metadata": {},
   "outputs": [
    {
     "name": "stdout",
     "output_type": "stream",
     "text": [
      "-7 -14 "
     ]
    }
   ],
   "source": [
    "for num in list1:\n",
    "    if num < 0:\n",
    "        print(num, end=\" \")\n",
    " "
   ]
  },
  {
   "cell_type": "code",
   "execution_count": 41,
   "id": "33ac7a14",
   "metadata": {},
   "outputs": [],
   "source": [
    "class Book:\n",
    "    def __init__(self, author, title, book_id):\n",
    "        self.author = author\n",
    "        self.title = title\n",
    "        self.book_id = book_id\n",
    "\n",
    "    def __str__(self):\n",
    "        return 'Book(author, title, book_id)'\n",
    "\n",
    "    def __repr__(self):\n",
    "\n",
    "        return 'Book(author, title, book_id)'\n",
    "\n",
    "    def __eq__(self, other):\n",
    "        for title in Book:\n",
    "            for title in Book:\n",
    "                if title == title:\n",
    "                    if author == author:\n",
    "                        if book_id == book_id:\n",
    "                            return True\n"
   ]
  },
  {
   "cell_type": "code",
   "execution_count": 42,
   "id": "b95cdc0c",
   "metadata": {},
   "outputs": [
    {
     "name": "stdout",
     "output_type": "stream",
     "text": [
      "Please enter your name: Sandip\n"
     ]
    }
   ],
   "source": [
    "name = input(\"Please enter your name: \")\n",
    "print(\"Hello, \" + name +\"!\")"
   ]
  },
  {
   "cell_type": "code",
   "execution_count": 49,
   "id": "25448412",
   "metadata": {},
   "outputs": [
    {
     "name": "stdout",
     "output_type": "stream",
     "text": [
      "Hello, Sandip!\n"
     ]
    }
   ],
   "source": [
    "print(\"Hello, \" + name +\"!\")"
   ]
  },
  {
   "cell_type": "code",
   "execution_count": 51,
   "id": "433ed316",
   "metadata": {},
   "outputs": [
    {
     "ename": "NameError",
     "evalue": "name 'isdigit' is not defined",
     "output_type": "error",
     "traceback": [
      "\u001b[1;31m---------------------------------------------------------------------------\u001b[0m",
      "\u001b[1;31mNameError\u001b[0m                                 Traceback (most recent call last)",
      "Cell \u001b[1;32mIn[51], line 1\u001b[0m\n\u001b[1;32m----> 1\u001b[0m \u001b[43misdigit\u001b[49m()\u001b[38;5;241m.\u001b[39mname\n",
      "\u001b[1;31mNameError\u001b[0m: name 'isdigit' is not defined"
     ]
    }
   ],
   "source": [
    "isdigit().name"
   ]
  },
  {
   "cell_type": "code",
   "execution_count": null,
   "id": "9398d6d7",
   "metadata": {},
   "outputs": [],
   "source": []
  }
 ],
 "metadata": {
  "kernelspec": {
   "display_name": "Python 3 (ipykernel)",
   "language": "python",
   "name": "python3"
  },
  "language_info": {
   "codemirror_mode": {
    "name": "ipython",
    "version": 3
   },
   "file_extension": ".py",
   "mimetype": "text/x-python",
   "name": "python",
   "nbconvert_exporter": "python",
   "pygments_lexer": "ipython3",
   "version": "3.10.9"
  }
 },
 "nbformat": 4,
 "nbformat_minor": 5
}
