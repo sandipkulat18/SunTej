{
 "cells": [
  {
   "cell_type": "code",
   "execution_count": null,
   "id": "8d3915f5",
   "metadata": {},
   "outputs": [],
   "source": [
    "            "
   ]
  },
  {
   "cell_type": "code",
   "execution_count": null,
   "id": "6f2d3ce8",
   "metadata": {},
   "outputs": [],
   "source": [
    "def sandip():\n",
    "    while True:\n",
    "        try:\n",
    "            val = int(input(\"please enter yor interger :\"))\n",
    "        except:\n",
    "            print(\"you did not enter interger :\")\n",
    "            continue\n",
    "        else:\n",
    "            print(\"yor enter r interger :\")\n",
    "            break\n",
    "        finally:\n",
    "            print(\"Finnaly i excuted\")\n",
    "        print(val)"
   ]
  },
  {
   "cell_type": "code",
   "execution_count": null,
   "id": "d2482b1c",
   "metadata": {},
   "outputs": [],
   "source": [
    "sandip()\n",
    "\n"
   ]
  },
  {
   "cell_type": "code",
   "execution_count": null,
   "id": "1d6698c4",
   "metadata": {},
   "outputs": [],
   "source": [
    "def sandip():\n",
    "    while True:\n",
    "        try:\n",
    "            val = int(input(\"please enter yor interger :\"))\n",
    "        except:\n",
    "            print(\"you did not enter interger :\")\n",
    "            continue\n",
    "        else:\n",
    "            print(\"yor enter r interger :\")\n",
    "            break\n",
    "        finally:\n",
    "            print(\"Finnaly i excuted\")\n",
    "        print(val)"
   ]
  },
  {
   "cell_type": "code",
   "execution_count": null,
   "id": "498ce280",
   "metadata": {},
   "outputs": [],
   "source": []
  },
  {
   "cell_type": "code",
   "execution_count": null,
   "id": "7db88e7f",
   "metadata": {},
   "outputs": [],
   "source": []
  },
  {
   "cell_type": "code",
   "execution_count": null,
   "id": "e2d0671b",
   "metadata": {},
   "outputs": [],
   "source": []
  }
 ],
 "metadata": {
  "kernelspec": {
   "display_name": "Python 3 (ipykernel)",
   "language": "python",
   "name": "python3"
  },
  "language_info": {
   "codemirror_mode": {
    "name": "ipython",
    "version": 3
   },
   "file_extension": ".py",
   "mimetype": "text/x-python",
   "name": "python",
   "nbconvert_exporter": "python",
   "pygments_lexer": "ipython3",
   "version": "3.9.12"
  }
 },
 "nbformat": 4,
 "nbformat_minor": 5
}
