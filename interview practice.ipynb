{
 "cells": [
  {
   "cell_type": "code",
   "execution_count": 2,
   "id": "29060ce6",
   "metadata": {},
   "outputs": [
    {
     "ename": "IndentationError",
     "evalue": "expected an indented block after function definition on line 31 (3778675617.py, line 33)",
     "output_type": "error",
     "traceback": [
      "\u001b[1;36m  Cell \u001b[1;32mIn[2], line 33\u001b[1;36m\u001b[0m\n\u001b[1;33m    print(arg1,arg2, args, kwargs)f2(1,2,3)\u001b[0m\n\u001b[1;37m    ^\u001b[0m\n\u001b[1;31mIndentationError\u001b[0m\u001b[1;31m:\u001b[0m expected an indented block after function definition on line 31\n"
     ]
    }
   ],
   "source": []
  },
  {
   "cell_type": "code",
   "execution_count": 4,
   "id": "5702e953",
   "metadata": {},
   "outputs": [],
   "source": [
    "class A(object):\n",
    "\n",
    "    def go(self):  \n",
    "\n",
    "      print(\"go A go!\")\n",
    "\n",
    "    def stop(self):   \n",
    "\n",
    "     print(\"stop A stop!\")   \n",
    "\n",
    "def pause(self):       \n",
    "    raise Exception(\"Not Implemented\")"
   ]
  },
  {
   "cell_type": "code",
   "execution_count": 12,
   "id": "eff5ed66",
   "metadata": {},
   "outputs": [],
   "source": [
    "class B(A):  \n",
    "\n",
    "  def go(self):       \n",
    "    super(B, self).go()\n",
    "    print(\"go B go!\")\n",
    "\n",
    "class C(A): \n",
    "    def go(self):\n",
    "        super(C, self).go()\n",
    "        print(\"go C go!\")\n",
    "    def stop(self): \n",
    "        super(C, self).stop() \n",
    "        print(\"stop C stop!\")\n",
    "\n",
    "class D(B,C):\n",
    "    def go(self):\n",
    "        super(D, self).go()\n",
    "        \n",
    "        print(\"go D go!\")    \n",
    "    def stop(self): \n",
    "        super(D, self).stop() \n",
    "        print(\"stop D stop!\")    \n",
    "    def pause(self):        \n",
    "        print(\"wait D wait!\")\n",
    "\n",
    "class E(B,C): pass\n",
    "\n"
   ]
  },
  {
   "cell_type": "code",
   "execution_count": 15,
   "id": "6fc08fb8",
   "metadata": {},
   "outputs": [
    {
     "ename": "SyntaxError",
     "evalue": "invalid syntax (524946924.py, line 1)",
     "output_type": "error",
     "traceback": [
      "\u001b[1;36m  Cell \u001b[1;32mIn[15], line 1\u001b[1;36m\u001b[0m\n\u001b[1;33m    a.stop()b.stop()c.stop()d.stop()e.stop()\u001b[0m\n\u001b[1;37m            ^\u001b[0m\n\u001b[1;31mSyntaxError\u001b[0m\u001b[1;31m:\u001b[0m invalid syntax\n"
     ]
    }
   ],
   "source": [
    "a.stop()b.stop()c.stop()d.stop()e.stop()"
   ]
  },
  {
   "cell_type": "code",
   "execution_count": 19,
   "id": "d016a602",
   "metadata": {},
   "outputs": [
    {
     "name": "stdout",
     "output_type": "stream",
     "text": [
      "5\n"
     ]
    }
   ],
   "source": [
    "class Acc:\n",
    "\n",
    "    def __init__(self, id):\n",
    "\n",
    "        self.id = id\n",
    "\n",
    "        id = 555\n",
    "\n",
    "acc = Acc(5)\n",
    "\n",
    "print(acc.id)"
   ]
  },
  {
   "cell_type": "code",
   "execution_count": 20,
   "id": "63230563",
   "metadata": {},
   "outputs": [
    {
     "name": "stdout",
     "output_type": "stream",
     "text": [
      "0\n",
      "1\n"
     ]
    }
   ],
   "source": [
    "for i in range(2):\n",
    "\n",
    "    print (i)"
   ]
  },
  {
   "cell_type": "code",
   "execution_count": 21,
   "id": "d980cb5d",
   "metadata": {},
   "outputs": [
    {
     "name": "stdout",
     "output_type": "stream",
     "text": [
      "4\n",
      "5\n"
     ]
    }
   ],
   "source": [
    "for i in range(4,6):\n",
    "\n",
    "    print(i)"
   ]
  },
  {
   "cell_type": "code",
   "execution_count": 24,
   "id": "b1c81321",
   "metadata": {},
   "outputs": [
    {
     "name": "stdout",
     "output_type": "stream",
     "text": [
      "1\n",
      "2\n",
      "3\n",
      "4\n"
     ]
    }
   ],
   "source": [
    "values = [1, 2, 3, 4]\n",
    "\n",
    "numbers = set(values)\n",
    "\n",
    "def checknums(num):\n",
    "\n",
    "    if num in numbers:\n",
    "\n",
    "        return True\n",
    "\n",
    "    else:\n",
    "        return False\n",
    "\n",
    "for i in filter(checknums, values):\n",
    "\n",
    "    print(i)"
   ]
  },
  {
   "cell_type": "code",
   "execution_count": 28,
   "id": "85efd7c3",
   "metadata": {},
   "outputs": [
    {
     "name": "stdout",
     "output_type": "stream",
     "text": [
      "3\n"
     ]
    }
   ],
   "source": [
    "counter = {}\n",
    "\n",
    "def addToCounter(country):\n",
    "\n",
    "    if country in counter:\n",
    "        counter[country] += 1\n",
    "\n",
    "    else:\n",
    "        counter[country] = 1\n",
    "\n",
    "addToCounter('China')\n",
    "\n",
    "addToCounter('Japan')\n",
    "\n",
    "addToCounter('china')\n",
    "print (len(counter))"
   ]
  },
  {
   "cell_type": "code",
   "execution_count": 31,
   "id": "5d7e423b",
   "metadata": {},
   "outputs": [
    {
     "name": "stdout",
     "output_type": "stream",
     "text": [
      "DataTrained is cool website for boosting up technical skills\n"
     ]
    }
   ],
   "source": [
    "def dtFunction():\n",
    "\n",
    "    \"DataTrained is cool website for boosting up technical skills\"\n",
    "\n",
    "    return 1\n",
    "\n",
    "print (dtFunction.__doc__[:] )"
   ]
  },
  {
   "cell_type": "code",
   "execution_count": 32,
   "id": "41c4a20c",
   "metadata": {},
   "outputs": [
    {
     "name": "stdout",
     "output_type": "stream",
     "text": [
      "1 1 1\n",
      "1 2 1\n",
      "3 2 3\n"
     ]
    }
   ],
   "source": [
    "class A(object):\n",
    "\n",
    "    val = 1\n",
    "\n",
    "class B(A):\n",
    "\n",
    "    pass\n",
    "\n",
    "class C(A):\n",
    "\n",
    "    pass\n",
    "\n",
    "print(A.val, B.val, C.val)\n",
    "\n",
    "B.val = 2\n",
    "\n",
    "print(A.val, B.val, C.val)\n",
    "\n",
    "A.val = 3\n",
    "\n",
    "print(A.val, B.val, C.val)"
   ]
  },
  {
   "cell_type": "code",
   "execution_count": 33,
   "id": "ba17b921",
   "metadata": {},
   "outputs": [
    {
     "name": "stdout",
     "output_type": "stream",
     "text": [
      "12\n"
     ]
    }
   ],
   "source": [
    "check1 = ['Learn', 'Quiz', 'Practice', 'Contribute']\n",
    "\n",
    "check2 = check1\n",
    "\n",
    "check3 = check1[:]\n",
    "\n",
    "check2[0] = 'Code'\n",
    "\n",
    "check3[1] = 'Mcq'\n",
    "\n",
    "count = 0\n",
    "\n",
    "for c in (check1, check2, check3):\n",
    "\n",
    "    if c[0] == 'Code':\n",
    "\n",
    "        count += 1\n",
    "\n",
    "    if c[1] == 'Mcq':\n",
    "\n",
    "        count += 10\n",
    "\n",
    "print(count)"
   ]
  },
  {
   "cell_type": "code",
   "execution_count": 34,
   "id": "3a286270",
   "metadata": {},
   "outputs": [
    {
     "name": "stdout",
     "output_type": "stream",
     "text": [
      "[0, 1]\n",
      "[3, 2, 1, 0, 1, 4]\n",
      "[0, 1, 0, 1, 4]\n"
     ]
    }
   ],
   "source": [
    "def dataTr(x,l=[]):\n",
    "\n",
    "    for i in range(x):\n",
    "\n",
    "        l.append(i*i)\n",
    "\n",
    "    print(l)\n",
    "\n",
    "dataTr(2)\n",
    "\n",
    "dataTr(3,[3,2,1])\n",
    "\n",
    "dataTr(3)"
   ]
  },
  {
   "cell_type": "code",
   "execution_count": 39,
   "id": "38b45545",
   "metadata": {},
   "outputs": [
    {
     "name": "stdout",
     "output_type": "stream",
     "text": [
      "2 3 -3 3.12\n"
     ]
    }
   ],
   "source": [
    "from math import *\n",
    "\n",
    "a = 2.13\n",
    "\n",
    "b = 3.7777\n",
    "\n",
    "c = -3.12\n",
    "\n",
    "print(int(a), floor(b), ceil(c), fabs(c))"
   ]
  },
  {
   "cell_type": "code",
   "execution_count": 40,
   "id": "fc2622fd",
   "metadata": {},
   "outputs": [
    {
     "name": "stdout",
     "output_type": "stream",
     "text": [
      "[10, 26, 6, 22, 38]\n"
     ]
    }
   ],
   "source": [
    "from random import randrange\n",
    "\n",
    "L = list()\n",
    "\n",
    "for x in range(5):\n",
    "    L.append(randrange(0, 100, 2)-10)\n",
    "\n",
    "# Choose which of outputs below are valid for this code.\n",
    "\n",
    "print(L)"
   ]
  },
  {
   "cell_type": "code",
   "execution_count": 42,
   "id": "136b9003",
   "metadata": {},
   "outputs": [
    {
     "name": "stdout",
     "output_type": "stream",
     "text": [
      "['11', '4', '1886'] ['1', '1']\n"
     ]
    }
   ],
   "source": [
    "import re\n",
    "\n",
    "p = re.compile('\\d+')\n",
    "\n",
    "print(p.findall(\"I met him once at 11 A.M. on 4th July 1886\"), end = \" \")\n",
    "\n",
    "p = re.compile('\\d')\n",
    "\n",
    "print(p.findall(\"I went to him at 11 A.M.\"))\n",
    "\n"
   ]
  },
  {
   "cell_type": "code",
   "execution_count": 43,
   "id": "d934cf74",
   "metadata": {},
   "outputs": [
    {
     "name": "stdout",
     "output_type": "stream",
     "text": [
      "D**t**Tr**iners DataTrainers\n"
     ]
    }
   ],
   "source": [
    "import re\n",
    "\n",
    "print(re.sub('a', '**', 'DataTrainers', flags = re.IGNORECASE), end = \" \")\n",
    "\n",
    "print(re.sub('tr', '**', 'DataTrainers'))\n",
    "\n"
   ]
  },
  {
   "cell_type": "code",
   "execution_count": 44,
   "id": "dad76d50",
   "metadata": {},
   "outputs": [
    {
     "name": "stdout",
     "output_type": "stream",
     "text": [
      "['pineapple']\n"
     ]
    }
   ],
   "source": [
    "import math\n",
    "\n",
    "import random\n",
    "\n",
    "L = [1, 2, 30000000000000]\n",
    "\n",
    "for x in range(3):\n",
    "\n",
    "    L[x] = math.sqrt(L[x])\n",
    "\n",
    "# random.choices() is available on Python 3.6.1 only.\n",
    "\n",
    "string = random.choices([\"apple\", \"carrot\", \"pineapple\"], L, k = 1)\n",
    "\n",
    "print(string)"
   ]
  },
  {
   "cell_type": "code",
   "execution_count": 45,
   "id": "2ce580c6",
   "metadata": {},
   "outputs": [
    {
     "name": "stdout",
     "output_type": "stream",
     "text": [
      "3\n"
     ]
    }
   ],
   "source": [
    "D = {1 : 1, 2 : '2', '1' : 1, '2' : 3}\n",
    "\n",
    "D['1'] = 2\n",
    "\n",
    "print(D[D[D[str(D[1])]]])"
   ]
  },
  {
   "cell_type": "code",
   "execution_count": 46,
   "id": "3a0cf90e",
   "metadata": {},
   "outputs": [
    {
     "name": "stdout",
     "output_type": "stream",
     "text": [
      "{0: 0, 7: 0, 1: 1, 8: 1}\n"
     ]
    }
   ],
   "source": [
    "D = dict()\n",
    "\n",
    "for x in enumerate(range(2)):\n",
    "\n",
    "    D[x[0]] = x[1]\n",
    "\n",
    "    D[x[1]+7] = x[0]\n",
    "\n",
    "print(D)"
   ]
  },
  {
   "cell_type": "code",
   "execution_count": 47,
   "id": "f99ad3c2",
   "metadata": {},
   "outputs": [
    {
     "name": "stdout",
     "output_type": "stream",
     "text": [
      "[1, 2, 3, 4] (4, 6, 8, 10)\n"
     ]
    }
   ],
   "source": [
    "D = {1 : [1, 2, 3], 2: (4, 6, 8)}\n",
    "\n",
    "D[1].append(4)\n",
    "\n",
    "print(D[1], end = \" \")\n",
    "\n",
    "L = list(D[2])\n",
    "\n",
    "L.append(10)\n",
    "\n",
    "D[2] = tuple(L)\n",
    "\n",
    "print(D[2])"
   ]
  },
  {
   "cell_type": "code",
   "execution_count": 48,
   "id": "1f61d255",
   "metadata": {},
   "outputs": [
    {
     "name": "stdout",
     "output_type": "stream",
     "text": [
      "{0: 1, 1: 1, 2: 1}\n"
     ]
    }
   ],
   "source": [
    "D = dict()\n",
    "\n",
    "for i in range (3):\n",
    "\n",
    "    for j in range(2):\n",
    "\n",
    "        D[i] = j\n",
    "\n",
    "print(D)"
   ]
  },
  {
   "cell_type": "code",
   "execution_count": 49,
   "id": "edaced08",
   "metadata": {},
   "outputs": [
    {
     "name": "stdout",
     "output_type": "stream",
     "text": [
      "[[[2, 3, 9]], [[2, 3, 9]], [[2, 3, 9]]]\n"
     ]
    }
   ],
   "source": [
    "data = [2, 3, 9]\n",
    "\n",
    "temp = [[x for x in[data]] for x in range(3)]\n",
    "\n",
    "print (temp)"
   ]
  },
  {
   "cell_type": "code",
   "execution_count": 50,
   "id": "9693b3bd",
   "metadata": {},
   "outputs": [
    {
     "name": "stdout",
     "output_type": "stream",
     "text": [
      "[0, 2, 4]\n"
     ]
    }
   ],
   "source": [
    "data = [x for x in range(5)]\n",
    "\n",
    "temp = [x for x in range(7) if x in data and x%2==0]\n",
    "\n",
    "print(temp)"
   ]
  },
  {
   "cell_type": "code",
   "execution_count": 51,
   "id": "933acf67",
   "metadata": {},
   "outputs": [
    {
     "name": "stdout",
     "output_type": "stream",
     "text": [
      "['D', 'F', 'P']\n"
     ]
    }
   ],
   "source": [
    "temp = ['Data', 'for', 'Peoples']\n",
    "\n",
    "arr = [i[0].upper() for i in temp]\n",
    "\n",
    "print(arr)"
   ]
  },
  {
   "cell_type": "code",
   "execution_count": 52,
   "id": "46c9f84e",
   "metadata": {},
   "outputs": [
    {
     "name": "stdout",
     "output_type": "stream",
     "text": [
      "[2, 2, 6, 4, 4]\n"
     ]
    }
   ],
   "source": [
    "temp = 'Treat 22536 for 445 Geeks'\n",
    "\n",
    "data = [x for x in (int(x) for x in temp if x.isdigit()) if x%2 == 0]\n",
    "\n",
    "print(data)"
   ]
  },
  {
   "cell_type": "code",
   "execution_count": 53,
   "id": "1cdaff6a",
   "metadata": {},
   "outputs": [
    {
     "name": "stdout",
     "output_type": "stream",
     "text": [
      "[]\n"
     ]
    }
   ],
   "source": [
    "data = [x for x in (x for x in 'Geeks 22966 for Geeks' if x.isdigit()) if\n",
    "\n",
    "(x in ([x for x in range(20)]))]\n",
    "\n",
    "print(data)\n",
    "\n"
   ]
  },
  {
   "cell_type": "code",
   "execution_count": 57,
   "id": "cd2db98f",
   "metadata": {},
   "outputs": [
    {
     "name": "stdout",
     "output_type": "stream",
     "text": [
      "1\n",
      "2\n",
      "3\n",
      "4\n",
      "5\n",
      "6\n"
     ]
    }
   ],
   "source": [
    "i = 1\n",
    "\n",
    "while True:\n",
    "\n",
    "    if i % 0O7 == 0:\n",
    "\n",
    "        break\n",
    "\n",
    "    print(i)\n",
    "\n",
    "    i += 1"
   ]
  },
  {
   "cell_type": "code",
   "execution_count": 58,
   "id": "16b3d57f",
   "metadata": {},
   "outputs": [
    {
     "name": "stdout",
     "output_type": "stream",
     "text": [
      "c, b and a abracadabra\n"
     ]
    }
   ],
   "source": [
    "str1 = '{2}, {1} and {0}'.format('a', 'b', 'c')\n",
    "\n",
    "str2 = '{0}{1}{0}'.format('abra', 'cad')\n",
    "\n",
    "print(str1, str2)"
   ]
  },
  {
   "cell_type": "code",
   "execution_count": 59,
   "id": "5436fb06",
   "metadata": {},
   "outputs": [
    {
     "name": "stdout",
     "output_type": "stream",
     "text": [
      "2.0000   2 -8 3.77\n"
     ]
    }
   ],
   "source": [
    "a = 2\n",
    "b = '3.77'\n",
    "c = -8\n",
    "str1 = '{0:.4f} {0:3d} {2} {1}'.format(a, b, c)\n",
    "\n",
    "print(str1)"
   ]
  },
  {
   "cell_type": "code",
   "execution_count": 62,
   "id": "1bb644dd",
   "metadata": {},
   "outputs": [
    {
     "name": "stdout",
     "output_type": "stream",
     "text": [
      "L*oo#frph#e|#wkhq1\n"
     ]
    }
   ],
   "source": [
    "line = \"I'll come by then.\"\n",
    "\n",
    "eline = \"\"\n",
    "\n",
    "for i in line:\n",
    "\n",
    "    eline += chr(ord(i)+3)\n",
    "\n",
    "print(eline)"
   ]
  },
  {
   "cell_type": "code",
   "execution_count": null,
   "id": "ee280a8c",
   "metadata": {},
   "outputs": [],
   "source": []
  }
 ],
 "metadata": {
  "kernelspec": {
   "display_name": "Python 3 (ipykernel)",
   "language": "python",
   "name": "python3"
  },
  "language_info": {
   "codemirror_mode": {
    "name": "ipython",
    "version": 3
   },
   "file_extension": ".py",
   "mimetype": "text/x-python",
   "name": "python",
   "nbconvert_exporter": "python",
   "pygments_lexer": "ipython3",
   "version": "3.10.9"
  }
 },
 "nbformat": 4,
 "nbformat_minor": 5
}
